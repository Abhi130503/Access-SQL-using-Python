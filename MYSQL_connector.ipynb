{
 "cells": [
  {
   "cell_type": "markdown",
   "id": "e66bd127",
   "metadata": {},
   "source": [
    "# Creating the language training center  Data base in MYSQL using Python"
   ]
  },
  {
   "cell_type": "code",
   "execution_count": 24,
   "id": "52b04318",
   "metadata": {
    "scrolled": true
   },
   "outputs": [],
   "source": [
    "#Import Libries to connect to MySQL\n",
    "import mysql.connector\n",
    "from mysql.connector import Error"
   ]
  },
  {
   "cell_type": "code",
   "execution_count": 25,
   "id": "d32f4565",
   "metadata": {
    "scrolled": true
   },
   "outputs": [
    {
     "data": {
      "text/plain": [
       "<mysql.connector.connection_cext.CMySQLConnection at 0x2f77f324c70>"
      ]
     },
     "execution_count": 25,
     "metadata": {},
     "output_type": "execute_result"
    }
   ],
   "source": [
    "#Creating a variable conn and seetting up the connection\n",
    "conn = mysql.connector.connect(user='', password='', host='')# add your user,password and host between''\n",
    "conn"
   ]
  },
  {
   "cell_type": "code",
   "execution_count": 26,
   "id": "29cab83e",
   "metadata": {},
   "outputs": [],
   "source": [
    "#Storing the connection in variable cursor using object conn\n",
    "cursor = conn.cursor()\n",
    "cursor.execute(\"Drop Database if exists Pvjxm17_dCenter\")\n",
    "#Drop Database Pvjxm17_dCenter"
   ]
  },
  {
   "cell_type": "code",
   "execution_count": 27,
   "id": "738c69ff",
   "metadata": {},
   "outputs": [],
   "source": [
    "#Creating the Database\n",
    "cursor.execute(\"Create Database Pvjxm17_dCenter\")"
   ]
  },
  {
   "cell_type": "code",
   "execution_count": 28,
   "id": "ef27e7d3",
   "metadata": {},
   "outputs": [],
   "source": [
    "#Using the Database\n",
    "cursor.execute(\"USE Pvjxm17_dCenter\")\n"
   ]
  },
  {
   "cell_type": "markdown",
   "id": "5ed17ebd",
   "metadata": {},
   "source": [
    "### Table 1 : Creating Table Enrolment and inserting values"
   ]
  },
  {
   "cell_type": "code",
   "execution_count": 29,
   "id": "329d2fa5",
   "metadata": {},
   "outputs": [],
   "source": [
    "cursor.execute(\"DROP TABLE IF EXISTS Enrolment\")\n",
    "Create_Table_Enrolment = \"CREATE Table Enrolment(Enroll_ID INT PRIMARY KEY,Teacher_ID INT, Stu_ID INT, Language_ID Varchar(5),Department varchar(20));\"\n",
    "cursor.execute(Create_Table_Enrolment)\n",
    "conn.commit()"
   ]
  },
  {
   "cell_type": "code",
   "execution_count": 30,
   "id": "f1b45fe0",
   "metadata": {},
   "outputs": [
    {
     "name": "stdout",
     "output_type": "stream",
     "text": [
      "\n"
     ]
    }
   ],
   "source": [
    "try:\n",
    "    Inser_Values_Enrolment = \"INSERT Into Enrolment Values(101, 675, 189, 'SAN01', 'Reasearch Language'),(102, 234, 565, 'ENG03', 'Communication'),(103, 234, 190, 'ENG01', 'Communication'),(201, 234, 189, 'ENG03', 'Communication'),(202, 675, 565, 'SAN01', 'Reasearch Language'),(203, 234, 566, 'ENG01', 'Communication');\"\n",
    "    for insert_query in Inser_Values_Enrolment:\n",
    "        cursor.execute(Inser_Values_Enrolment)\n",
    "# Commit the changes    \n",
    "    conn.commit()\n",
    "except Error as error:\n",
    "    print(\"\")"
   ]
  },
  {
   "cell_type": "code",
   "execution_count": 31,
   "id": "a71fb5c0",
   "metadata": {},
   "outputs": [
    {
     "name": "stdout",
     "output_type": "stream",
     "text": [
      "(101, 675, 189, 'SAN01', 'Reasearch Language')\n",
      "(102, 234, 565, 'ENG03', 'Communication')\n",
      "(103, 234, 190, 'ENG01', 'Communication')\n",
      "(201, 234, 189, 'ENG03', 'Communication')\n",
      "(202, 675, 565, 'SAN01', 'Reasearch Language')\n",
      "(203, 234, 566, 'ENG01', 'Communication')\n"
     ]
    }
   ],
   "source": [
    "# Execute the SELECT query\n",
    "cursor.execute(\"SELECT * FROM Enrolment\")\n",
    "# Fetch all the results\n",
    "results = cursor.fetchall()\n",
    "# Print the result\n",
    "for result in results:\n",
    "    print(result)"
   ]
  },
  {
   "cell_type": "markdown",
   "id": "a93f7202",
   "metadata": {},
   "source": [
    "### Table 2 : Creating Table Teacher and inserting values"
   ]
  },
  {
   "cell_type": "code",
   "execution_count": 32,
   "id": "9a14dfcb",
   "metadata": {},
   "outputs": [],
   "source": [
    "cursor.execute(\"DROP TABLE IF EXISTS Teacher\")\n",
    "Create_Table_Teacher = \"CREATE Table Teacher(Teacher_ID INT PRIMARY KEY, Teacher_First_Name varchar(30), Teacher_Last_Name varchar(30), Teacher_PhNo INT,Teacher_Salary INT, Enroll_ID INT NOT NULL, FOREIGN KEY (Enroll_ID) REFERENCES Enrolment(Enroll_ID));\"\n",
    "\n",
    "cursor.execute(Create_Table_Teacher)\n",
    "conn.commit()"
   ]
  },
  {
   "cell_type": "code",
   "execution_count": 33,
   "id": "810b1e22",
   "metadata": {},
   "outputs": [
    {
     "name": "stdout",
     "output_type": "stream",
     "text": [
      "\n"
     ]
    }
   ],
   "source": [
    "try:\n",
    "    Inser_Values_Teacher = \"INSERT Into Teacher Values(675, 'Amelia','Rosie', 74201197,30000, 101),(234, 'Emma','Amber', 82301197,40000, 102);\"\n",
    "    \n",
    "    for insert_query in Inser_Values_Teacher:\n",
    "        cursor.execute(Inser_Values_Teacher)\n",
    "# Commit the changes    \n",
    "    conn.commit()\n",
    "except Error as error:\n",
    "    print(\"\")"
   ]
  },
  {
   "cell_type": "code",
   "execution_count": 34,
   "id": "a319a202",
   "metadata": {},
   "outputs": [
    {
     "name": "stdout",
     "output_type": "stream",
     "text": [
      "(234, 'Emma', 'Amber', 82301197, 40000, 102)\n",
      "(675, 'Amelia', 'Rosie', 74201197, 30000, 101)\n"
     ]
    }
   ],
   "source": [
    "# Execute the SELECT query\n",
    "cursor.execute(\"SELECT * FROM Teacher;\")\n",
    "# Fetch all the results\n",
    "results = cursor.fetchall()\n",
    "# Print the result\n",
    "for result in results:\n",
    "    print(result)"
   ]
  },
  {
   "cell_type": "markdown",
   "id": "aca97058",
   "metadata": {},
   "source": [
    "### Table 3 : Creating Table Student and inserting values"
   ]
  },
  {
   "cell_type": "code",
   "execution_count": 35,
   "id": "01f7163c",
   "metadata": {},
   "outputs": [],
   "source": [
    "cursor.execute(\"DROP TABLE IF EXISTS Student\")\n",
    "Create_Table_Student = \"CREATE Table Student(Stu_ID INT PRIMARY KEY, Stu_First_Name Varchar(30), Stu_Last_Name varchar(30), Stu_PhNo INT, Enroll_ID INT NOT NULL, Fee_Balance INT, FOREIGN KEY (Enroll_ID) REFERENCES Enrolment(Enroll_ID));\"\n",
    "\n",
    "cursor.execute(Create_Table_Student)\n",
    "conn.commit()"
   ]
  },
  {
   "cell_type": "code",
   "execution_count": 36,
   "id": "385d39b5",
   "metadata": {},
   "outputs": [
    {
     "name": "stdout",
     "output_type": "stream",
     "text": [
      "\n"
     ]
    }
   ],
   "source": [
    "try:\n",
    "    Inser_Values_Student = \"INSERT Into Student Values(189, 'Adam','Joe', 71454397, 201, 0 ),(565, 'Robby','Noah',23014565, 202,50);\"\n",
    "    for insert_query in Inser_Values_Student:\n",
    "        cursor.execute(Inser_Values_Student)\n",
    "# Commit the changes    \n",
    "    conn.commit()\n",
    "except Error as error:\n",
    "    print(\"\")"
   ]
  },
  {
   "cell_type": "code",
   "execution_count": 37,
   "id": "4d0d342c",
   "metadata": {},
   "outputs": [
    {
     "name": "stdout",
     "output_type": "stream",
     "text": [
      "(189, 'Adam', 'Joe', 71454397, 201, 0)\n",
      "(565, 'Robby', 'Noah', 23014565, 202, 50)\n"
     ]
    }
   ],
   "source": [
    "# Execute the SELECT query\n",
    "cursor.execute(\"SELECT * FROM Student\")\n",
    "# Fetch all the results\n",
    "results = cursor.fetchall()\n",
    "# Print the result\n",
    "for result in results:\n",
    "    print(result)"
   ]
  },
  {
   "cell_type": "markdown",
   "id": "7b75a577",
   "metadata": {},
   "source": [
    "### Table 4 : Creating Table Language and inserting values"
   ]
  },
  {
   "cell_type": "code",
   "execution_count": 38,
   "id": "0472995f",
   "metadata": {},
   "outputs": [],
   "source": [
    "cursor.execute(\"DROP TABLE IF EXISTS Language\")\n",
    "Create_Table_Language = \"CREATE Table Language(Language_ID varchar(5) PRIMARY KEY,Teacher_ID INT, Language_Level Varchar(30), Language_Name Varchar(30), Mode_Of_Delivery Varchar(20), Duration_In_Months INT,FOREIGN KEY (Teacher_ID) REFERENCES Teacher(Teacher_ID));\"\n",
    "\n",
    "cursor.execute(Create_Table_Language)\n",
    "conn.commit()"
   ]
  },
  {
   "cell_type": "code",
   "execution_count": 39,
   "id": "029151ad",
   "metadata": {},
   "outputs": [
    {
     "name": "stdout",
     "output_type": "stream",
     "text": [
      "\n"
     ]
    }
   ],
   "source": [
    "try:\n",
    "    Inser_Values_Language = \"INSERT Into Language Values('SAN01',675,'Beginner','Sanskrit','Online',6),('ENG01',234,'Advance','English','Classroom',12);\"\n",
    "    for insert_query in Inser_Values_Language:\n",
    "        cursor.execute(Inser_Values_Language)\n",
    "    # Commit the changes    \n",
    "    conn.commit()\n",
    "except Error as error:\n",
    "    print(\"\")"
   ]
  },
  {
   "cell_type": "code",
   "execution_count": 40,
   "id": "c5457596",
   "metadata": {},
   "outputs": [
    {
     "name": "stdout",
     "output_type": "stream",
     "text": [
      "('ENG01', 234, 'Advance', 'English', 'Classroom', 12)\n",
      "('SAN01', 675, 'Beginner', 'Sanskrit', 'Online', 6)\n"
     ]
    }
   ],
   "source": [
    "# Execute the SELECT query\n",
    "cursor.execute(\"SELECT * FROM Language\")\n",
    "# Fetch all the results\n",
    "results = cursor.fetchall()\n",
    "# Print the result\n",
    "for result in results:\n",
    "    print(result)"
   ]
  },
  {
   "cell_type": "markdown",
   "id": "92ae026e",
   "metadata": {},
   "source": [
    "### Table 5 : Creating Table Class_Room and inserting values"
   ]
  },
  {
   "cell_type": "code",
   "execution_count": 41,
   "id": "cb0eeb8c",
   "metadata": {},
   "outputs": [],
   "source": [
    "cursor.execute(\"DROP TABLE IF EXISTS Class_Room\")\n",
    "Create_Table_Class_Room = \"CREATE Table Class_Room(Room_No Varchar(3) PRIMARY KEY,Language_ID varchar(5), Room_Type Varchar(10), Capacity Varchar(30), FOREIGN KEY (Language_ID) REFERENCES Language(Language_ID));\"\n",
    "\n",
    "cursor.execute(Create_Table_Class_Room)\n",
    "conn.commit()"
   ]
  },
  {
   "cell_type": "code",
   "execution_count": 42,
   "id": "9e4ffa91",
   "metadata": {},
   "outputs": [
    {
     "name": "stdout",
     "output_type": "stream",
     "text": [
      "\n"
     ]
    }
   ],
   "source": [
    "try:\n",
    "    Inser_Values_Class_Room = \"INSERT Into Class_Room Values('A03','SAN01','Standard',100),('B01','ENG01','Ensuite',30);\"\n",
    "    for insert_query in Inser_Values_Class_Room:\n",
    "        cursor.execute(Inser_Values_Class_Room)\n",
    "# Commit the changes    \n",
    "    conn.commit()\n",
    "except Error as error:\n",
    "    print(\"\")"
   ]
  },
  {
   "cell_type": "code",
   "execution_count": 43,
   "id": "9a58c06b",
   "metadata": {},
   "outputs": [
    {
     "name": "stdout",
     "output_type": "stream",
     "text": [
      "('A03', 'SAN01', 'Standard', '100')\n",
      "('B01', 'ENG01', 'Ensuite', '30')\n"
     ]
    }
   ],
   "source": [
    "# Execute the SELECT query\n",
    "cursor.execute(\"SELECT * FROM Class_Room\")\n",
    "# Fetch all the results\n",
    "results = cursor.fetchall()\n",
    "# Print the result\n",
    "for result in results:\n",
    "    print(result)"
   ]
  },
  {
   "cell_type": "code",
   "execution_count": 44,
   "id": "82f16c4c",
   "metadata": {},
   "outputs": [
    {
     "data": {
      "text/plain": [
       "<mysql.connector.cursor_cext.CMySQLCursor at 0x2f77f3241c0>"
      ]
     },
     "execution_count": 44,
     "metadata": {},
     "output_type": "execute_result"
    }
   ],
   "source": [
    "#Closing the connection\n",
    "cursor.close()\n",
    "cursor"
   ]
  },
  {
   "cell_type": "markdown",
   "id": "004f1013",
   "metadata": {},
   "source": [
    "### The END"
   ]
  }
 ],
 "metadata": {
  "kernelspec": {
   "display_name": "Python 3 (ipykernel)",
   "language": "python",
   "name": "python3"
  },
  "language_info": {
   "codemirror_mode": {
    "name": "ipython",
    "version": 3
   },
   "file_extension": ".py",
   "mimetype": "text/x-python",
   "name": "python",
   "nbconvert_exporter": "python",
   "pygments_lexer": "ipython3",
   "version": "3.9.12"
  }
 },
 "nbformat": 4,
 "nbformat_minor": 5
}
